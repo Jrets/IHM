{
 "cells": [
  {
   "cell_type": "markdown",
   "metadata": {},
   "source": [
    "# Практическое задание №5"
   ]
  },
  {
   "cell_type": "markdown",
   "metadata": {},
   "source": [
    "#### 5.1Вычислите, по возможности не используя программирование: \n",
    "(5E)-1 где Е – единичная матрица размера 5х5.**"
   ]
  },
  {
   "cell_type": "code",
   "execution_count": 33,
   "metadata": {},
   "outputs": [],
   "source": [
    "import numpy as np\n",
    "import matplotlib.pyplot as plt"
   ]
  },
  {
   "cell_type": "code",
   "execution_count": 34,
   "metadata": {
    "scrolled": true
   },
   "outputs": [
    {
     "name": "stdout",
     "output_type": "stream",
     "text": [
      "[[1. 0. 0. 0. 0.]\n",
      " [0. 1. 0. 0. 0.]\n",
      " [0. 0. 1. 0. 0.]\n",
      " [0. 0. 0. 1. 0.]\n",
      " [0. 0. 0. 0. 1.]]\n"
     ]
    }
   ],
   "source": [
    "# единичная матрица размера 5х5 \n",
    "E = np.identity(5)\n",
    "print(E)"
   ]
  },
  {
   "cell_type": "code",
   "execution_count": 35,
   "metadata": {},
   "outputs": [
    {
     "name": "stdout",
     "output_type": "stream",
     "text": [
      "[[0.2 0.  0.  0.  0. ]\n",
      " [0.  0.2 0.  0.  0. ]\n",
      " [0.  0.  0.2 0.  0. ]\n",
      " [0.  0.  0.  0.2 0. ]\n",
      " [0.  0.  0.  0.  0.2]]\n"
     ]
    }
   ],
   "source": [
    "# представяем (5E)**-1, как \n",
    "# 5**(-1) * E**(-1) = 0.2 * E, т.к. обратная единичной матрица, так же является единичной\n",
    "A_inv = 0.2 * E\n",
    "print(A_inv)"
   ]
  },
  {
   "cell_type": "markdown",
   "metadata": {},
   "source": [
    "#### 5.2. Вычислите определитель:\n",
    "### $A = \\left(\n",
    "\\begin{array}{cccc}\n",
    "1 & 2 & 3\\\\\n",
    "4 & 0 & 6\\\\\n",
    "7 & 8 & 9\n",
    "\\end{array}\n",
    "\\right) $\n"
   ]
  },
  {
   "cell_type": "markdown",
   "metadata": {},
   "source": [
    "Найдем определитель, использовав разложение по 2-му столбцу: \\\n",
    "Определитель минора 1,2: ∆1,2 = (4*9-7*6) = -6 \\\n",
    "Определитель для минора 2,2 не вычисляем, поскольку A2,2 = 0 \\\n",
    "Определитель для минора 3,2: ∆3,2 = (1*6-4*3) = -6 \\\n",
    "Определитель матрицы A: \\\n",
    "∆ = (-1)1+22*(-6) +(-1)3+28*(-6) = -2*(-6) + -8*(-6) = 60"
   ]
  },
  {
   "cell_type": "markdown",
   "metadata": {},
   "source": [
    "#### 5.3.1 Вычислите матрицу, обратную данной:"
   ]
  },
  {
   "cell_type": "markdown",
   "metadata": {},
   "source": [
    "Используется определитель матрицы A, вычисленный в задании 5.2: ∆ = 60 \\\n",
    "Определитель не равен нулю, следовательно, матрица является невырожденной и для нее можно \\\n",
    "найти обратную матрицу A-1  по формуле:\\\t\t\n",
    "A-1 = 1/∆ * A.Tij \\\n",
    "где Aij - алгебраические дополнения.\\\n",
    "Транспонированная матрица:\n"
   ]
  },
  {
   "cell_type": "markdown",
   "metadata": {},
   "source": [
    "### $A^{T} = \\left(\n",
    "\\begin{array}{cccc}\n",
    "1 & 4 & 7\\\\\n",
    "2 & 0 & 8\\\\\n",
    "3 & 6 & 9\n",
    "\\end{array}\n",
    "\\right) $\n"
   ]
  },
  {
   "cell_type": "markdown",
   "metadata": {},
   "source": [
    "**Найдем алгебраические дополнения матрицы A.T:**\n",
    "\t\t\n",
    "∆1,1 = (0*9 - 6*8) = -48, ∆1,2 = -(2*9 - 3*8) = 6, ∆1,3 = (2*6 - 3*0) = 12, ∆2,1 = -(4*9 - 6*7) = 6 \\\n",
    "∆2,2 = (1*9 - 3*7) = -12, ∆2,3 = -(1*6 - 3*4) = 6, ∆3,1 = (4*8 - 0*7) = 32, ∆3,2 = -(1*8 - 2*7) = 6 \\\n",
    "∆3,3 = (1*0 - 2*4) = -8 \\\n",
    "\n",
    "**Обратная матрица:**"
   ]
  },
  {
   "cell_type": "markdown",
   "metadata": {},
   "source": [
    "### $A^{-1} = 1/60\\left(\n",
    "\\begin{array}{cccc}\n",
    "-48 & 6 & 12\\\\\n",
    "6 & -12 & 6\\\\\n",
    "32 & 6 & -8\n",
    "\\end{array}\n",
    "\\right)=> A^{-1} = \\left(\n",
    "\\begin{array}{cccc}\n",
    "-4/5 & 1/10 & 1/5\\\\\n",
    "1/10 & -1/5 & 1/10\\\\\n",
    "8/15 & 1/10 & -2/15\n",
    "\\end{array}\n",
    "\\right) $\n"
   ]
  },
  {
   "cell_type": "markdown",
   "metadata": {},
   "source": [
    "#### 5.3.2 Приведите пример матрицы 4х4, ранг которой равен 1."
   ]
  },
  {
   "cell_type": "markdown",
   "metadata": {},
   "source": [
    "### $A = \\left(\n",
    "\\begin{array}{cccc}\n",
    "1 & 0 & 0 & 0\\\\\n",
    "0 & 0 & 0 & 0\\\\\n",
    "0 & 0 & 0 & 0\\\\\n",
    "0 & 0 & 0 & 0\\\\\n",
    "\\end{array}\n",
    "\\right) $\n"
   ]
  },
  {
   "cell_type": "markdown",
   "metadata": {},
   "source": [
    "#### 5.4. Вычислите скалярное произведение двух векторов: (1, 5) и (2, 8)"
   ]
  },
  {
   "cell_type": "markdown",
   "metadata": {},
   "source": [
    "Скалярное произведение векторов a и b, находится по формуле: \\\n",
    "a*b = x1*x2 + y1*y2. \\\n",
    "По формуле находим: a*b = 1x2 + 5x8 = 42\n"
   ]
  },
  {
   "cell_type": "markdown",
   "metadata": {},
   "source": [
    "#### 5.5 Вычислите смешанное произведение трех векторов: (1, 5, 0), (2, 8, 7) и (7, 1.5, 3)\n",
    "\n",
    "Чтобы вычислить смешанное произведение векторов, необходимо найти определитель системы, составленной из координат векторов.\n",
    "\n"
   ]
  },
  {
   "cell_type": "markdown",
   "metadata": {},
   "source": [
    "### $A = \\left(\n",
    "\\begin{array}{cccc}\n",
    "1 & 5 & 0\\\\\n",
    "2 & 8 & 7\\\\\n",
    "7 & 1.5 & 3\n",
    "\\end{array}\n",
    "\\right) $\n"
   ]
  },
  {
   "cell_type": "markdown",
   "metadata": {},
   "source": [
    "**Определитель:**\n",
    "∆ = 1*(8*3-1.5*7)-2*(5*3-1.5*0)+7*(5*7-8*0) = 228.5"
   ]
  },
  {
   "cell_type": "markdown",
   "metadata": {},
   "source": [
    "# Практическое задание №6"
   ]
  },
  {
   "cell_type": "markdown",
   "metadata": {},
   "source": [
    "#### 6.1 Решите линейную систему \n",
    "### $\\left(\n",
    "\\begin{array}{cccc}\n",
    "1 & 2 & 3\\\\\n",
    "4 & 0 & 6\\\\\n",
    "7 & 8 & 9\n",
    "\\end{array}\n",
    "\\right) *     X = \\left(\n",
    "\\begin{array}{cccc}\n",
    "12\\\\2\\\\1\n",
    "\\end{array}\n",
    "\\right)\n",
    "$\n"
   ]
  },
  {
   "cell_type": "markdown",
   "metadata": {},
   "source": [
    "Для решения используется обратная матрица, найденая в Задании 5.3.2"
   ]
  },
  {
   "cell_type": "markdown",
   "metadata": {},
   "source": [
    "### $X = 1/60\\left(\n",
    "\\begin{array}{cccc}\n",
    "-48 & 6 & 12\\\\\n",
    "6 & -12 & 6\\\\\n",
    "32 & 6 & -8\n",
    "\\end{array}\n",
    "\\right)\n",
    "*     \\left(\n",
    "\\begin{array}{cccc}\n",
    "12\\\\2\\\\1\n",
    "\\end{array}\n",
    "\\right) = 1/60  \\left(\n",
    "\\begin{array}{cccc}\n",
    "-552\\\\102\\\\388\n",
    "\\end{array}\n",
    "\\right) = \\left(\n",
    "\\begin{array}{cccc}\n",
    "-552/60\\\\102/60\\\\388/60\n",
    "\\end{array}\n",
    "\\right)\n",
    "$\n"
   ]
  },
  {
   "cell_type": "markdown",
   "metadata": {},
   "source": [
    "#### 6.2 2. Найдите псевдорешение:\n",
    "x + 2y – z = 1 \\\n",
    "3x – 4y = 7 \\\n",
    "8x – 5y + 2z = 12 \\\n",
    "2x – 5z = 7 \\\n",
    "11x +4y – 7z = 15"
   ]
  },
  {
   "cell_type": "markdown",
   "metadata": {},
   "source": [
    "#### $\\left(\n",
    "\\begin{array}{cccc}\n",
    "1 & 2 & -1\\\\\n",
    "3 & -4 & 0\\\\\n",
    "8 & -5 & 2\\\\\n",
    "2 & 0 & -5\\\\\n",
    "11 & 4 & -7\n",
    "\\end{array}\n",
    "\\right)\n",
    "*     \\left(\n",
    "\\begin{array}{cccc}\n",
    "x\\\\y\\\\z\n",
    "\\end{array}\n",
    "\\right) = \\left(\n",
    "\\begin{array}{cccc}\n",
    "1\\\\7\\\\12\\\\7\\\\15\n",
    "\\end{array}\n",
    "\\right)\n",
    "$\n"
   ]
  },
  {
   "cell_type": "code",
   "execution_count": 36,
   "metadata": {},
   "outputs": [
    {
     "name": "stderr",
     "output_type": "stream",
     "text": [
      "<ipython-input-36-368477b5cd3d>:3: FutureWarning: `rcond` parameter will change to the default of machine precision times ``max(M, N)`` where M and N are the input matrix dimensions.\n",
      "To use the future default and silence this warning we advise to pass `rcond=None`, to keep using the old, explicitly pass `rcond=-1`.\n",
      "  np.linalg.lstsq(A, B)\n"
     ]
    },
    {
     "data": {
      "text/plain": [
       "(array([ 1.13919353, -0.90498444, -0.9009803 ]),\n",
       " array([0.71523211]),\n",
       " 3,\n",
       " array([15.2817306 ,  9.59852942,  3.65197794]))"
      ]
     },
     "execution_count": 36,
     "metadata": {},
     "output_type": "execute_result"
    }
   ],
   "source": [
    "A = np.array([[1, 2, -1], [3, -4, 0], [8, -5, 2], [2, 0, -5], [11, 4, -7]], float)\n",
    "B = np.array([1, 7, 12, 7, 15])  \n",
    "np.linalg.lstsq(A, B)"
   ]
  },
  {
   "cell_type": "markdown",
   "metadata": {},
   "source": [
    "псевдорешение (значения x,y,z) [ 1.13919353, -0.90498444, -0.9009803 ]"
   ]
  },
  {
   "cell_type": "markdown",
   "metadata": {},
   "source": [
    "#### 6.3 Сколько решений имеет линейная система:\n",
    "Если ноль – то измените вектор правой части так, чтобы система стала совместной, и решите ее.\n",
    "\n",
    "### $\\left(\n",
    "\\begin{array}{cccc}\n",
    "1 & 2 & 3\\\\\n",
    "4 & 5 & 6\\\\\n",
    "7 & 8 & 9\n",
    "\\end{array}\n",
    "\\right) *     X = \\left(\n",
    "\\begin{array}{cccc}\n",
    "12\\\\2\\\\1\n",
    "\\end{array}\n",
    "\\right)\n",
    "$\n"
   ]
  },
  {
   "cell_type": "markdown",
   "metadata": {},
   "source": [
    "Если ноль – то измените вектор правой части так, чтобы система стала совместной, и решите ее. "
   ]
  },
  {
   "cell_type": "markdown",
   "metadata": {},
   "source": [
    "Если ранг исходной матрицы не совпадает с рангом расширенной матрицы, система не имеет решений"
   ]
  },
  {
   "cell_type": "markdown",
   "metadata": {},
   "source": [
    "### $A =\n",
    "\\begin{pmatrix}\n",
    "1 & 2 & 3\\\\\n",
    "4 & 5 & 6\\\\\n",
    "7 & 8 & 9\n",
    "\\end{pmatrix},\n",
    "A_{ext} =\n",
    "\\begin{pmatrix}\n",
    "1 & 2 & 3 & 12\\\\\n",
    "4 & 5 & 6 & 2\\\\\n",
    "7 & 8 & 9 & 1\n",
    "\\end{pmatrix}\n",
    "$"
   ]
  },
  {
   "cell_type": "code",
   "execution_count": 37,
   "metadata": {},
   "outputs": [],
   "source": [
    "A = np.array([[1,2,3],[4,5,6],[7,8,9]])\n",
    "B = np.array([[12,2,1]])\n",
    "A_ext = np.concatenate((A,B.T), axis=1)"
   ]
  },
  {
   "cell_type": "code",
   "execution_count": 38,
   "metadata": {},
   "outputs": [
    {
     "data": {
      "text/plain": [
       "2"
      ]
     },
     "execution_count": 38,
     "metadata": {},
     "output_type": "execute_result"
    }
   ],
   "source": [
    "np.linalg.matrix_rank(A, 0.0001)"
   ]
  },
  {
   "cell_type": "code",
   "execution_count": 39,
   "metadata": {},
   "outputs": [
    {
     "data": {
      "text/plain": [
       "3"
      ]
     },
     "execution_count": 39,
     "metadata": {},
     "output_type": "execute_result"
    }
   ],
   "source": [
    "np.linalg.matrix_rank(A_ext, 0.0001)"
   ]
  },
  {
   "cell_type": "markdown",
   "metadata": {},
   "source": [
    "**система не имеет решений, изменяем правую часть**"
   ]
  },
  {
   "cell_type": "code",
   "execution_count": 40,
   "metadata": {},
   "outputs": [
    {
     "name": "stdout",
     "output_type": "stream",
     "text": [
      "[[1 2 3 0]\n",
      " [4 5 6 0]\n",
      " [7 8 9 0]]\n"
     ]
    },
    {
     "data": {
      "text/plain": [
       "(2, 2)"
      ]
     },
     "execution_count": 40,
     "metadata": {},
     "output_type": "execute_result"
    }
   ],
   "source": [
    "#Если ноль – то измените вектор правой части так, чтобы система стала совместной, и решите ее. \n",
    "A = np.array([[1, 2, 3], [4, 5, 6], [7, 8, 9]])\n",
    "B = np.array([[0, 0, 0]])\n",
    "C = np.concatenate((A,B.T), axis=1)\n",
    "print (C)\n",
    "np.linalg.matrix_rank(A, 0.0001), np.linalg.matrix_rank(C, 0.0001)"
   ]
  },
  {
   "cell_type": "markdown",
   "metadata": {},
   "source": [
    "#### 6.4. Вычислите LU-разложение матрицы:"
   ]
  },
  {
   "cell_type": "markdown",
   "metadata": {},
   "source": [
    "### $\\left(\n",
    "\\begin{array}{cccc}\n",
    "1 & 2 & 3\\\\\n",
    "2 & 16 & 21\\\\\n",
    "4 & 28 & 73\n",
    "\\end{array}\n",
    "\\right)\n",
    "$\n"
   ]
  },
  {
   "cell_type": "code",
   "execution_count": 41,
   "metadata": {},
   "outputs": [],
   "source": [
    "import scipy \n",
    "import scipy.linalg  "
   ]
  },
  {
   "cell_type": "code",
   "execution_count": 42,
   "metadata": {},
   "outputs": [
    {
     "name": "stdout",
     "output_type": "stream",
     "text": [
      "[[0. 1. 0.]\n",
      " [0. 0. 1.]\n",
      " [1. 0. 0.]]\n",
      "[[ 1.    0.    0.  ]\n",
      " [ 0.25  1.    0.  ]\n",
      " [ 0.5  -0.4   1.  ]]\n",
      "[[  4.    28.    73.  ]\n",
      " [  0.    -5.   -15.25]\n",
      " [  0.     0.   -21.6 ]]\n",
      "[[0. 0. 0.]\n",
      " [0. 0. 0.]\n",
      " [0. 0. 0.]]\n"
     ]
    }
   ],
   "source": [
    "A = np.array([ [1, 2, 3], [2, 16, 21], [4, 28, 73]])\n",
    "P, L, U = scipy.linalg.lu(A)\n",
    "\n",
    "print(P)\n",
    "print(L)\n",
    "print(U)\n",
    "#проверка\n",
    "print(np.dot(P.transpose(), A) - np.dot(L, U))"
   ]
  },
  {
   "cell_type": "markdown",
   "metadata": {},
   "source": [
    "#### 6.5. Найдите нормальное псевдорешение недоопределенной системы:\n",
    "x + 2y – z = 1  \n",
    "8x – 5y + 2z = 12\n",
    "Для этого определите функцию Q(x,y,z), равную норме решения, и найдите ее минимум"
   ]
  },
  {
   "cell_type": "code",
   "execution_count": 54,
   "metadata": {},
   "outputs": [
    {
     "data": {
      "image/png": "[encoded data removed]",
      "text/plain": [
       "<Figure size 432x288 with 1 Axes>"
      ]
     },
     "metadata": {
      "needs_background": "light"
     },
     "output_type": "display_data"
    }
   ],
   "source": [
    "def Q(x, y, z):\n",
    "  return (x**2 + y**2 + z**2)\n",
    "from pylab import *\n",
    "from mpl_toolkits.mplot3d import Axes3D\n",
    "fig = figure()\n",
    "ax = Axes3D(fig)\n",
    "X = np.arange(-10, 10, 1)\n",
    "Y = np.arange(-10, 10, 1)\n",
    "X, Y = np.meshgrid(X, Y)\n",
    "ax.plot_surface(X, Y, Q(X, 5*X - 14, 21*X - 1))\n",
    "show()\n",
    "#plt.plot(x, y, Q(x, 10*x - 14, 21*x - 1))\n",
    "#plt.xlabel('x')\n",
    "#plt.ylabel('y')\n",
    "#plt.grid(True)"
   ]
  },
  {
   "cell_type": "code",
   "execution_count": 45,
   "metadata": {},
   "outputs": [
    {
     "name": "stderr",
     "output_type": "stream",
     "text": [
      "<ipython-input-45-5c869dcce80e>:3: FutureWarning: `rcond` parameter will change to the default of machine precision times ``max(M, N)`` where M and N are the input matrix dimensions.\n",
      "To use the future default and silence this warning we advise to pass `rcond=None`, to keep using the old, explicitly pass `rcond=-1`.\n",
      "  np.linalg.lstsq(A, B)\n"
     ]
    },
    {
     "data": {
      "text/plain": [
       "(array([ 1.38191882, -0.18081181,  0.0202952 ]),\n",
       " array([], dtype=float64),\n",
       " 2,\n",
       " array([9.65316119, 2.41173777]))"
      ]
     },
     "execution_count": 45,
     "metadata": {},
     "output_type": "execute_result"
    }
   ],
   "source": [
    "A = np.array([[1, 2, -1], [8, -5, 2]], float)\n",
    "B = np.array([1, 12])  \n",
    "np.linalg.lstsq(A, B)"
   ]
  },
  {
   "cell_type": "markdown",
   "metadata": {},
   "source": [
    "решение [ 1.38191882, -0.18081181,  0.0202952 ]"
   ]
  },
  {
   "cell_type": "markdown",
   "metadata": {},
   "source": [
    "#### 6.6. Найдите одно из псевдорешений вырожденной системы:\n",
    "Попробуйте также отыскать и нормальное псевдорешение.\n",
    "### $\\left(\n",
    "\\begin{array}{cccc}\n",
    "1 & 2 & 3\\\\\n",
    "4 & 5 & 6\\\\\n",
    "7 & 8 & 9\n",
    "\\end{array}\n",
    "\\right) *     X = \\left(\n",
    "\\begin{array}{cccc}\n",
    "2\\\\5\\\\11\n",
    "\\end{array}\n",
    "\\right)\n",
    "$\n"
   ]
  },
  {
   "cell_type": "markdown",
   "metadata": {},
   "source": [
    "Предпоследнюю тему понял с трудом, последняя вообще не далась. Поскольку в видеоуроке идет просто \"начитка текста\" а в объяснении практических примеров пропусков едва ли не больше, чем самих объяснений, последнее задание не сделал. Да, и, как ни странно, именно на эти две темы последнего урока у преподавателя \"не хватило времени\". "
   ]
  },
  {
   "cell_type": "code",
   "execution_count": null,
   "metadata": {},
   "outputs": [],
   "source": []
  }
 ],
 "metadata": {
  "kernelspec": {
   "display_name": "Python 3",
   "language": "python",
   "name": "python3"
  },
  "language_info": {
   "codemirror_mode": {
    "name": "ipython",
    "version": 3
   },
   "file_extension": ".py",
   "mimetype": "text/x-python",
   "name": "python",
   "nbconvert_exporter": "python",
   "pygments_lexer": "ipython3",
   "version": "3.8.5"
  }
 },
 "nbformat": 4,
 "nbformat_minor": 4
}
