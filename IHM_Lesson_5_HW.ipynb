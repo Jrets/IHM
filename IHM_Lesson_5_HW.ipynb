{
 "cells": [
  {
   "cell_type": "markdown",
   "metadata": {},
   "source": [
    "**1. Напишите код, моделирующий выпадение поля в рулетке (с учетом поля зеро)**"
   ]
  },
  {
   "cell_type": "code",
   "execution_count": 169,
   "metadata": {},
   "outputs": [],
   "source": [
    "import random"
   ]
  },
  {
   "cell_type": "code",
   "execution_count": 170,
   "metadata": {},
   "outputs": [
    {
     "name": "stdout",
     "output_type": "stream",
     "text": [
      "Назовите число: 12\n"
     ]
    }
   ],
   "source": [
    "bid = int(input(\"Назовите число: \"))"
   ]
  },
  {
   "cell_type": "code",
   "execution_count": 171,
   "metadata": {},
   "outputs": [
    {
     "name": "stdout",
     "output_type": "stream",
     "text": [
      "Выпало 30,вы проиграли!\n"
     ]
    }
   ],
   "source": [
    "ball = random.randint(0,36)\n",
    "if ball == 0:\n",
    "    print(f'Зеро! {ball}, выиграло казино!')\n",
    "elif bid == ball:\n",
    "    print(f'Выпало {ball},вы выиграли!')\n",
    "else:\n",
    "    print(f'Выпало {ball},вы проиграли!')"
   ]
  },
  {
   "cell_type": "markdown",
   "metadata": {},
   "source": [
    "**2.1 Напишите код, проверяющий любую из теорем сложения или умножения вероятности на примере рулетки или подбрасывания монетки**"
   ]
  },
  {
   "cell_type": "code",
   "execution_count": 172,
   "metadata": {},
   "outputs": [],
   "source": [
    "#Возьмем для примера рулетку. Диапазон выпадения конкретного числа (случайного события) находится в интервале о 0 до 36."
   ]
  },
  {
   "cell_type": "code",
   "execution_count": 173,
   "metadata": {},
   "outputs": [
    {
     "name": "stdout",
     "output_type": "stream",
     "text": [
      "[0, 1, 2, 3, 4, 5, 6, 7, 8, 9, 10, 11, 12, 13, 14, 15, 16, 17, 18, 19, 20, 21, 22, 23, 24, 25, 26, 27, 28, 29, 30, 31, 32, 33, 34, 35, 36]\n"
     ]
    }
   ],
   "source": [
    "# Полная группа несовместных соббытий целые числа в диапазоне 0 - 36. Их общее количество 37.\n",
    "sectors = [x for x in range(37)]\n",
    "print(sectors)"
   ]
  },
  {
   "cell_type": "code",
   "execution_count": 174,
   "metadata": {},
   "outputs": [],
   "source": [
    "#Общее число испытаний n\n",
    "n = len(sectors)\n",
    "#Выбраный сектор - число появления события m = 1\n",
    "m_a = 1\n",
    "#Поскольку события выпадения и невыпадения загаданного номера несовместные, то число не появления события m\n",
    "m_na = n - m_a"
   ]
  },
  {
   "cell_type": "code",
   "execution_count": 175,
   "metadata": {},
   "outputs": [
    {
     "name": "stdout",
     "output_type": "stream",
     "text": [
      "вероятность выпадения загаданного сектора 0.02702702702702703\n",
      "вероятность не выпадения загаданного сектора 0.972972972972973\n"
     ]
    }
   ],
   "source": [
    "#Выбираем сектор - число появления события m = 1. Относительная частота W(A)= m / n. Т.к. отностительная частота стремится к\n",
    "# вероятности события, вычислим ее для нашего случая\n",
    "w = m_a / n\n",
    "print(f'вероятность выпадения загаданного сектора {w}')\n",
    "# вероятность события невыпадения загаданного сектора\n",
    "w_na = m_na / n\n",
    "print(f'вероятность не выпадения загаданного сектора {w_na}')"
   ]
  },
  {
   "cell_type": "code",
   "execution_count": 176,
   "metadata": {},
   "outputs": [
    {
     "name": "stdout",
     "output_type": "stream",
     "text": [
      "True\n"
     ]
    }
   ],
   "source": [
    "#Поскольку события выпадения и невыпадения загаданного номера несовместные, то сумма этих двух вероятностей, согласно теореме\n",
    "#сложения равна 1 \n",
    "print(w + w_na  == 1)"
   ]
  },
  {
   "cell_type": "markdown",
   "metadata": {},
   "source": [
    "**2.2 Сгенерируйте десять выборок случайных чисел х0,…, х9. и постройте гистограмму распределения случайной суммы  +х0+ …+ х9** "
   ]
  },
  {
   "cell_type": "code",
   "execution_count": 177,
   "metadata": {},
   "outputs": [],
   "source": [
    "%matplotlib inline\n",
    "import numpy as np\n",
    "import matplotlib.pyplot as plt\n",
    "import matplotlib.mlab as mlab"
   ]
  },
  {
   "cell_type": "code",
   "execution_count": 178,
   "metadata": {},
   "outputs": [
    {
     "data": {
      "text/plain": [
       "Text(0.5, 1.0, 'Histogram')"
      ]
     },
     "execution_count": 178,
     "metadata": {},
     "output_type": "execute_result"
    },
    {
     "data": {
      "image/png": "[encoded data removed]",
      "text/plain": [
       "<Figure size 432x288 with 1 Axes>"
      ]
     },
     "metadata": {
      "needs_background": "light"
     },
     "output_type": "display_data"
    }
   ],
   "source": [
    "sums=[]\n",
    "for i in range(11):\n",
    "  x=np.random.rand(10)\n",
    "  sums.append(sum(x))\n",
    "  i+=1\n",
    "num_bins = 10\n",
    "n, bins, patches = plt.hist(sums, num_bins)\n",
    "plt.xlabel('summa')\n",
    "plt.ylabel('Probability')\n",
    "plt.title('Histogram')"
   ]
  },
  {
   "cell_type": "markdown",
   "metadata": {},
   "source": [
    "**3.1 Дополните код Монте-Карло последовательности независимых испытаний расчетом соответствующих вероятностей \n",
    "(через биномиальное распределение) и сравните результаты.**"
   ]
  },
  {
   "cell_type": "code",
   "execution_count": 179,
   "metadata": {},
   "outputs": [],
   "source": [
    "import itertools\n",
    "import math\n",
    "import sys"
   ]
  },
  {
   "cell_type": "code",
   "execution_count": 180,
   "metadata": {
    "scrolled": true
   },
   "outputs": [
    {
     "name": "stdout",
     "output_type": "stream",
     "text": [
      "0.364\n"
     ]
    }
   ],
   "source": [
    "#метод монтекарло\n",
    "k, n = 0, 10000\n",
    "a = np.random.randint(0, 2, n)\n",
    "b = np.random.randint(0, 2, n)\n",
    "c = np.random.randint(0, 2, n)\n",
    "d = np.random.randint(0, 2, n)\n",
    "x = a + b + c + d\n",
    "for i in range(0, n):\n",
    "    if x[i] == 2:\n",
    "        k = k + 1\n",
    "print(k/n)"
   ]
  },
  {
   "cell_type": "code",
   "execution_count": 181,
   "metadata": {
    "scrolled": true
   },
   "outputs": [
    {
     "name": "stdout",
     "output_type": "stream",
     "text": [
      "0.375\n"
     ]
    }
   ],
   "source": [
    "# биномиальное распределение\n",
    "k_b, n_b = 2 , 4\n",
    "C = math.factorial(n_b) / (math.factorial(k_b) * math.factorial(n_b - k_b))\n",
    "P = C * 0.5**n_b\n",
    "print(P)"
   ]
  },
  {
   "cell_type": "markdown",
   "metadata": {},
   "source": [
    "**3.2 Повторите расчеты биномиальных коэффициентов и вероятностей k успехов в последовательности из n независимых испытаний,\n",
    "взяв другие значения n и k.**"
   ]
  },
  {
   "cell_type": "code",
   "execution_count": 182,
   "metadata": {},
   "outputs": [
    {
     "name": "stdout",
     "output_type": "stream",
     "text": [
      "0.25\n"
     ]
    }
   ],
   "source": [
    "# биномиальное распределение\n",
    "k_b, n_b = 3 , 4\n",
    "C = math.factorial(n_b) / (math.factorial(k_b) * math.factorial(n_b - k_b))\n",
    "P = C * 0.5**n_b\n",
    "print(P)"
   ]
  },
  {
   "cell_type": "markdown",
   "metadata": {},
   "source": [
    "**4. (не обязательно, но желательно) Из урока по комбинаторике повторите расчеты, сгенерировав возможные варианты\n",
    "перестановок для других значений n и k**"
   ]
  },
  {
   "cell_type": "code",
   "execution_count": 183,
   "metadata": {},
   "outputs": [
    {
     "name": "stdout",
     "output_type": "stream",
     "text": [
      "всего 24 варианта\n"
     ]
    }
   ],
   "source": [
    "variants = []\n",
    "for p in itertools.permutations(\"0123\",3):\n",
    "    variants.append(p)\n",
    "    #print(''.join(p))  \n",
    "print(f'всего {len(variants)} варианта')"
   ]
  },
  {
   "cell_type": "code",
   "execution_count": 184,
   "metadata": {},
   "outputs": [
    {
     "name": "stdout",
     "output_type": "stream",
     "text": [
      "всего 30 варианта\n"
     ]
    }
   ],
   "source": [
    "variants = []\n",
    "for p in itertools.permutations(\"012345\",2):\n",
    "    variants.append(p)\n",
    "    #print(''.join(p))  \n",
    "print(f'всего {len(variants)} варианта')"
   ]
  },
  {
   "cell_type": "code",
   "execution_count": 185,
   "metadata": {},
   "outputs": [
    {
     "name": "stdout",
     "output_type": "stream",
     "text": [
      "всего 720 варианта\n"
     ]
    }
   ],
   "source": [
    "variants = []\n",
    "for p in itertools.permutations(\"012345\",5):\n",
    "    variants.append(p)\n",
    "    #print(''.join(p))  \n",
    "print(f'всего {len(variants)} варианта')"
   ]
  },
  {
   "cell_type": "markdown",
   "metadata": {},
   "source": [
    "**5. Дополните код расчетом коэффициента корреляции x и y по формуле**"
   ]
  },
  {
   "cell_type": "code",
   "execution_count": 186,
   "metadata": {},
   "outputs": [
    {
     "name": "stdout",
     "output_type": "stream",
     "text": [
      "r = 1.0\n",
      "0.7502831422949999 0.12698985037611743\n",
      "0.7502831422949997 0.12698985037611774\n"
     ]
    },
    {
     "name": "stderr",
     "output_type": "stream",
     "text": [
      "<ipython-input-186-7dcaaddfd873>:28: FutureWarning: `rcond` parameter will change to the default of machine precision times ``max(M, N)`` where M and N are the input matrix dimensions.\n",
      "To use the future default and silence this warning we advise to pass `rcond=None`, to keep using the old, explicitly pass `rcond=-1`.\n",
      "  a1, b1 = np.linalg.lstsq(A, y)[0]\n"
     ]
    },
    {
     "data": {
      "image/png": "[encoded data removed]",
      "text/plain": [
       "<Figure size 432x288 with 1 Axes>"
      ]
     },
     "metadata": {
      "needs_background": "light"
     },
     "output_type": "display_data"
    }
   ],
   "source": [
    "n = 100\n",
    "r = 0.7\n",
    "x_sum = 0\n",
    "x_n = n \n",
    "y_sum  = 0\n",
    "y_n = n\n",
    "x = np.random.rand(n)\n",
    "y = r*x + (1 - r)*np.random.rand(n)\n",
    "plt.plot(x, y, 'o')\n",
    "plt.xlabel('x')\n",
    "plt.ylabel('y')\n",
    "plt.grid(True)\n",
    "a = (np.sum(x)*np.sum(y) - n*np.sum(x*y))/(np.sum(x)*np.sum(x) - n*np.sum(x*x))\n",
    "b = (np.sum(y) - a*np.sum(x))/n\n",
    "#корреляция блок начало\n",
    "x_av = x.sum() / n #средний x\n",
    "x_d = x - x_av     #в массиве x отнимаем от каждого х среднее\n",
    "y_av = y.sum() / n #средний y\n",
    "y_d = y - y_av     ##в массиве y отнимаем от каждого y среднее\n",
    "# расчет сумм (Xi-Xm), (Yi-Ym)\n",
    "xd_sum = x_d.sum()\n",
    "yd_sum = y_d.sum()\n",
    "#вычисление коэффициента корреляции\n",
    "r = (xd_sum * yd_sum) / (np.sqrt(xd_sum**2 * yd_sum**2))\n",
    "print(f'r = {r}')\n",
    "#корреляция блок конец                                      \n",
    "A = np.vstack([x, np.ones(len(x))]).T\n",
    "a1, b1 = np.linalg.lstsq(A, y)[0]\n",
    "print(a, b)\n",
    "print(a1, b1)\n",
    "plt.plot([0, 1], [b, a + b])\n",
    "plt.show()"
   ]
  },
  {
   "cell_type": "code",
   "execution_count": null,
   "metadata": {},
   "outputs": [],
   "source": []
  }
 ],
 "metadata": {
  "kernelspec": {
   "display_name": "Python 3",
   "language": "python",
   "name": "python3"
  },
  "language_info": {
   "codemirror_mode": {
    "name": "ipython",
    "version": 3
   },
   "file_extension": ".py",
   "mimetype": "text/x-python",
   "name": "python",
   "nbconvert_exporter": "python",
   "pygments_lexer": "ipython3",
   "version": "3.8.5"
  }
 },
 "nbformat": 4,
 "nbformat_minor": 4
}
